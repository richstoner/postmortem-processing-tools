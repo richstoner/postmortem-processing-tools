{
 "metadata": {
  "name": ""
 },
 "nbformat": 3,
 "nbformat_minor": 0,
 "worksheets": [
  {
   "cells": [
    {
     "cell_type": "markdown",
     "metadata": {},
     "source": [
      "This notebook shows how the AIBS module works to interact with the AIBS API."
     ]
    },
    {
     "cell_type": "code",
     "collapsed": false,
     "input": [
      "import sys, os\n",
      "print 'Working in %s' % os.path.abspath(os.path.curdir)\n",
      "\n",
      "# adding path to python modules\n",
      "sys.path.append('../src/python')\n",
      "\n",
      "import pmip;\n",
      "import aibs;\n",
      "reload(pmip); reload(aibs);"
     ],
     "language": "python",
     "metadata": {},
     "outputs": [
      {
       "output_type": "stream",
       "stream": "stdout",
       "text": [
        "Working in /vagrant/notebooks\n"
       ]
      }
     ],
     "prompt_number": 8
    },
    {
     "cell_type": "code",
     "collapsed": false,
     "input": [
      "api = aibs.api()"
     ],
     "language": "python",
     "metadata": {},
     "outputs": [],
     "prompt_number": 3
    },
    {
     "cell_type": "code",
     "collapsed": false,
     "input": [
      "explist = api.getValidSpecimentsWithName('H08-0083.01')\n",
      "\n",
      "e = explist[0]\n",
      "\n",
      "e.markersOfInterest = ['PCP4']\n",
      "e.getMarkerList(verbose=False)\n",
      "e.getSectionImages()"
     ],
     "language": "python",
     "metadata": {},
     "outputs": [
      {
       "metadata": {},
       "output_type": "pyout",
       "prompt_number": 4,
       "text": [
        "[006-100034525 - [ 23552 x 16896 ],\n",
        " 036-100034525 - [ 24256 x 18624 ],\n",
        " 066-100034525 - [ 24256 x 20639 ],\n",
        " 096-100034525 - [ 26048 x 20575 ],\n",
        " 126-100034525 - [ 25344 x 21375 ],\n",
        " 156-100034525 - [ 25344 x 20864 ],\n",
        " 186-100034525 - [ 25536 x 21312 ],\n",
        " 216-100034525 - [ 25311 x 20992 ],\n",
        " 246-100034525 - [ 25216 x 20031 ],\n",
        " 276-100034525 - [ 25664 x 19583 ]]"
       ]
      }
     ],
     "prompt_number": 4
    },
    {
     "cell_type": "code",
     "collapsed": false,
     "input": [
      "e.filteredMarkers"
     ],
     "language": "python",
     "metadata": {},
     "outputs": [
      {
       "metadata": {},
       "output_type": "pyout",
       "prompt_number": 5,
       "text": [
        "[{'id': 100034525, 'name': u'PCP4', 'type': 'ISH'}]"
       ]
      }
     ],
     "prompt_number": 5
    },
    {
     "cell_type": "code",
     "collapsed": false,
     "input": [
      "e.metadata"
     ],
     "language": "python",
     "metadata": {},
     "outputs": [
      {
       "metadata": {},
       "output_type": "pyout",
       "prompt_number": 6,
       "text": [
        "{u'chemotherapy': None,\n",
        " u'donor_id': 1345,\n",
        " u'egfr_amplification': None,\n",
        " u'extent_of_resection': None,\n",
        " u'external_specimen_name': None,\n",
        " u'hemisphere': u'(none)',\n",
        " u'id': 4350,\n",
        " u'mgmt_pcr': None,\n",
        " u'name': u'H08-0083.01',\n",
        " u'parent_id': None,\n",
        " u'parent_x_coord': None,\n",
        " u'parent_y_coord': None,\n",
        " u'parent_z_coord': None,\n",
        " u'pten_deletion': None,\n",
        " u'radiation_therapy': None,\n",
        " u'rna_integrity_number': 6.9,\n",
        " u'smoker': None,\n",
        " u'specimen_id_path': u'/4350/',\n",
        " u'structure_id': 1157,\n",
        " u'tissue_ph': None,\n",
        " u'tumor_status': None}"
       ]
      }
     ],
     "prompt_number": 6
    },
    {
     "cell_type": "code",
     "collapsed": false,
     "input": [
      "e.printSpecimenDetails()"
     ],
     "language": "python",
     "metadata": {},
     "outputs": [
      {
       "output_type": "stream",
       "stream": "stdout",
       "text": [
        "all markers\n",
        "[{'id': 100034619, 'name': u'SST', 'type': 'ISH'},\n",
        " {'id': 100030029, 'name': u'RORB', 'type': 'ISH'},\n",
        " {'id': 100034641, 'name': u'VIP', 'type': 'ISH'},\n",
        " {'id': 100033518, 'name': u'NTNG2', 'type': 'ISH'},\n",
        " {'id': 100032212, 'name': u'PRKCB', 'type': 'ISH'},\n",
        " {'id': 100033402, 'name': u'NDNF', 'type': 'ISH'},\n",
        " {'id': 100034539, 'name': u'CXCL14', 'type': 'ISH'},\n",
        " {'id': 100029767, 'name': u'NISSL', 'type': 'HIS'},\n",
        " {'id': 100029915, 'name': u'PVALB', 'type': 'ISH'},\n",
        " {'id': 100030581, 'name': u'FOXP2', 'type': 'ISH'},\n",
        " {'id': 100034580, 'name': u'PDE1A', 'type': 'ISH'},\n",
        " {'id': 100032506, 'name': u'CALB2', 'type': 'ISH'},\n",
        " {'id': 100032306, 'name': u'MBP', 'type': 'ISH'},\n",
        " {'id': 100029918, 'name': u'CALB1', 'type': 'ISH'},\n",
        " {'id': 100035174, 'name': u'SYNPR', 'type': 'ISH'},\n",
        " {'id': 100034871, 'name': u'NRXN1', 'type': 'ISH'},\n",
        " {'id': 100034612, 'name': u'RELN', 'type': 'ISH'},\n",
        " {'id': 100034759, 'name': u'GAD1', 'type': 'ISH'},\n",
        " {'id': 100035059, 'name': u'AIF1', 'type': 'ISH'},\n",
        " {'id': 100034306, 'name': u'VAT1L', 'type': 'ISH'},\n",
        " {'id': 100034327, 'name': u'CTGF', 'type': 'ISH'},\n",
        " {'id': 100034525, 'name': u'PCP4', 'type': 'ISH'},\n",
        " {'id': 100030594, 'name': u'CNTNAP2', 'type': 'ISH'},\n",
        " {'id': 100034531, 'name': u'SLC1A2', 'type': 'ISH'},\n",
        " {'id': 100029764, 'name': u'MFGE8', 'type': 'ISH'}]\n",
        "filtered markers\n",
        "[{'id': 100034525, 'name': u'PCP4', 'type': 'ISH'}]\n",
        "section image list\n",
        "[006-100034525 - [ 23552 x 16896 ],\n",
        " 036-100034525 - [ 24256 x 18624 ],\n",
        " 066-100034525 - [ 24256 x 20639 ],\n",
        " 096-100034525 - [ 26048 x 20575 ],\n",
        " 126-100034525 - [ 25344 x 21375 ],\n",
        " 156-100034525 - [ 25344 x 20864 ],\n",
        " 186-100034525 - [ 25536 x 21312 ],\n",
        " 216-100034525 - [ 25311 x 20992 ],\n",
        " 246-100034525 - [ 25216 x 20031 ],\n",
        " 276-100034525 - [ 25664 x 19583 ]]\n"
       ]
      }
     ],
     "prompt_number": 7
    },
    {
     "cell_type": "code",
     "collapsed": false,
     "input": [],
     "language": "python",
     "metadata": {},
     "outputs": []
    }
   ],
   "metadata": {}
  }
 ]
}