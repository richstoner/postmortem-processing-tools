{
 "metadata": {
  "name": ""
 },
 "nbformat": 3,
 "nbformat_minor": 0,
 "worksheets": [
  {
   "cells": [
    {
     "cell_type": "markdown",
     "metadata": {},
     "source": [
      "### This notebook takes you through a reconstruction example\n",
      "\n",
      "This example is based on a set of local jpeg2000 images. Several parts have been commented out to minimize errors in the notebook. This component of the pipeline is the most modern. The previous version, on which many of the original reconstrctions were built, involved using ITK + c++ code to generate convert the points list into density stack. *In theory this method should work on remote images from the API, but it has not been tested.* \n",
      "\n",
      "Sequence:\n",
      "\n",
      "1. Query the Allen Institute data api for a list of images to work with\n",
      "2. Collect the appropriate transforms from Step 1 (registration)\n",
      "3. Collect the point lists from Step 2 (point extraction)\n",
      "4. Transform the points list\n",
      "5. Convolve the points list with a 2D gaussian\n",
      "6. Assemble into a single image stack"
     ]
    },
    {
     "cell_type": "code",
     "collapsed": false,
     "input": [
      "import sys, os\n",
      "print 'Working in %s' % os.path.abspath(os.path.curdir)\n",
      "\n",
      "# adding path to python modules\n",
      "sys.path.append('../src/python')"
     ],
     "language": "python",
     "metadata": {},
     "outputs": [
      {
       "output_type": "stream",
       "stream": "stdout",
       "text": [
        "Working in /vagrant/notebooks\n"
       ]
      }
     ],
     "prompt_number": 2
    },
    {
     "cell_type": "markdown",
     "metadata": {},
     "source": [
      "We import the aibs module, a small wrapper created to query parts of the Allen Institute Data api [api.brain-map.org](http://api.brain-map.org) easily"
     ]
    },
    {
     "cell_type": "code",
     "collapsed": false,
     "input": [
      "import aibs;\n",
      "reload(aibs);\n",
      "api = aibs.api()"
     ],
     "language": "python",
     "metadata": {},
     "outputs": [],
     "prompt_number": 6
    },
    {
     "cell_type": "markdown",
     "metadata": {},
     "source": [
      "Since this example uses local data, we manually define the specimen, raw file location, and other parameters. \n",
      "\n",
      "**Note** There is a minor hack applied to this notebook to generate placeholder section images. The demo includes pre-transformed points to play with, but would break due to the missing raw images."
     ]
    },
    {
     "cell_type": "code",
     "collapsed": false,
     "input": [
      "aSpecimen = {}\n",
      "aSpecimen['subjectName'] = 'H08-0083.01.02'\n",
      "\n",
      "#aSpecimen['location'] = '/vol/raw/UMB797/'\n",
      "\n",
      "s = aibs.Specimen(initdata=aSpecimen, remote=True)\n",
      "s.sectionRange = [71, 111] # we will only use sections from 19 to 129, inclusive\n",
      "s.markersOfInterest = ['CALB1', 'RORB'] # no markers selected, use all of them\n",
      "\n",
      "# uncomment as needed\n",
      "#s.populateFromLocalImages() # searchs the location provided for images matching a known format\n",
      "#s.getMarkerList(verbose=False) # compiles a list of possible markers to use\n",
      "#all_images = s.getSectionImages() # filter all possible images by marrkers and section range\n",
      "\n",
      "# minor hack to ONLY get this demo to work. \n",
      "import glob\n",
      "all_images = []\n",
      "for rp in glob.glob('/data/reconstruction/specimens/H08-0083_01_02/register_points/*'):\n",
      "    a = aibs.SectionImage('-'.join(rp.split('-')[0:2]))\n",
      "    a.section_number = rp.split('-')[0]\n",
      "    a.metadata = {'height' : 0, 'width' : 0}\n",
      "    all_images.append(a)"
     ],
     "language": "python",
     "metadata": {},
     "outputs": [],
     "prompt_number": 51
    },
    {
     "cell_type": "markdown",
     "metadata": {},
     "source": [
      "We then import the processing module. This module was written to wrap various shell scripts & command line commands initially, but has since been expanded to include image processing steps itself, implemented in scikit image and numpy."
     ]
    },
    {
     "cell_type": "code",
     "collapsed": false,
     "input": [
      "import pmip;\n",
      "reload(pmip); # in case any development has occured since last import\n",
      "\n",
      "# we create an instance of the class, passing it the experiment we defined above\n",
      "pe = pmip.Processing(s)\n",
      "\n",
      "# initializing the environment then creates the necessary directories for derived data to go\n",
      "pe.initEnv();\n",
      "\n",
      "# this is a utility command to see the total file counts in each directory\n",
      "pe.listSubjectDirectory();"
     ],
     "language": "python",
     "metadata": {},
     "outputs": [
      {
       "output_type": "stream",
       "stream": "stdout",
       "text": [
        "\n",
        "* initEnv\n",
        "--------------------------------------------------------------------------------\n",
        "found   : /data/reconstruction\n",
        "found   : /data/reconstruction/specimens\n",
        "directories for H08-0083_01_02 created\n",
        "[68 files] /data/reconstruction/specimens/H08-0083_01_02/detect_points\n",
        "[0 files] /data/reconstruction/specimens/H08-0083_01_02/detect_raw\n",
        "[0 files] /data/reconstruction/specimens/H08-0083_01_02/register_contrast\n",
        "[22 files] /data/reconstruction/specimens/H08-0083_01_02/register_density\n",
        "[33 files] /data/reconstruction/specimens/H08-0083_01_02/register_points\n",
        "[0 files] /data/reconstruction/specimens/H08-0083_01_02/register_raw\n",
        "[0 files] /data/reconstruction/specimens/H08-0083_01_02/register_source\n",
        "[0 files] /data/reconstruction/specimens/H08-0083_01_02/register_stack\n",
        "[0 files] /data/reconstruction/specimens/H08-0083_01_02/register_target\n",
        "[2 files] /data/reconstruction/specimens/H08-0083_01_02/video\n"
       ]
      }
     ],
     "prompt_number": 52
    },
    {
     "cell_type": "markdown",
     "metadata": {},
     "source": [
      "Import many of the modules we'll need downstream"
     ]
    },
    {
     "cell_type": "code",
     "collapsed": false,
     "input": [
      "import os, glob\n",
      "import numpy as np\n",
      "import scipy as sp\n",
      "from scipy import ndimage, signal\n",
      "import skimage\n",
      "from skimage import color, filter, measure\n",
      "from skimage.transform import pyramids\n",
      "import workerpool\n",
      "from mpl_toolkits.mplot3d import Axes3D"
     ],
     "language": "python",
     "metadata": {},
     "outputs": [],
     "prompt_number": 53
    },
    {
     "cell_type": "markdown",
     "metadata": {},
     "source": [
      "We then build several lists that will be used to interact with the points along the way.\n"
     ]
    },
    {
     "cell_type": "code",
     "collapsed": false,
     "input": [
      "#Collect the points list (centroids and areas), and transforms.\n",
      "pe.collectImagesForGeneration()\n",
      "\n",
      "generate_list = pe.processing_status['regpointc']\n",
      "area_list = pe.processing_status['regpointa']\n",
      "available_list = pe.processing_status['regcontrast']\n",
      "xform_list = pe.processing_status['regxform']\n",
      "points_to_make_with = pe.processing_status['regpoints']\n",
      "\n",
      "for k in pe.processing_status.keys():\n",
      "    print k, len(pe.processing_status[k])"
     ],
     "language": "python",
     "metadata": {},
     "outputs": [
      {
       "output_type": "stream",
       "stream": "stdout",
       "text": [
        "regtarget 0\n",
        "regmox 0\n",
        "regcontrast 0\n",
        "regsource 0\n",
        "regpoints 33\n",
        "regpointa 34\n",
        "regpointc 34\n",
        "regxform 0\n"
       ]
      }
     ],
     "prompt_number": 54
    },
    {
     "cell_type": "markdown",
     "metadata": {},
     "source": [
      "### Thinking about the inverse transform\n",
      "\n",
      "This transform was generated by first downsampling the native image by 2^4. The image was contrasted and padded to 2k x 2k from the center of the image. Then the image was shrunk by 50% to 1kx1k and registered using a centered 2d rigid registration\n",
      "    \n",
      "The original images were downsampled by a factor of 2 and run through a filter based point detection algorithm. This generated points in the downsampled space.\n",
      "\n",
      "To get the transform into native space, take the center points of transform and rescale to native ( mult * 2^4)\n",
      "  \n",
      "    e.g. 16 * cx, 16 * center.y \n",
      "\n",
      "  \n",
      "Next we need to transform the points detected in dsx1 space and place them into the 2kx2k*2^4 padded space. To do this, we will look up the section image dimensions from the specimen metadata and offset accordingly.\n",
      "\n",
      "Thankfully, all of our images (of interest) are less than 32k*32k, meaning we only have to consider the possibility of insetting out points\n",
      "       "
     ]
    },
    {
     "cell_type": "code",
     "collapsed": false,
     "input": [
      "def transformPoints(point_source, point_area, transform, imageInfo, lower_bound=30, upper_bound=100):\n",
      "    \n",
      "#    print imageInfo.metadata\n",
      "    \n",
      "    print imageInfo.metadata['path']\n",
      "    \n",
      "    import numpy as np\n",
      "    from matplotlib.pyplot import scatter\n",
      "    from matplotlib import pyplot as plt\n",
      "    points = np.loadtxt(point_source, dtype=np.float64)\n",
      "    points_area = np.loadtxt(point_area, dtype=np.float64)\n",
      "    \n",
      "    print point_area\n",
      "    #print points.shape\n",
      "    \n",
      "    angle = cx = cy = dx = dy = 0\n",
      "    \n",
      "    itk_fid = open(transform, 'rU')\n",
      "    read_pos = 0\n",
      "    for line in itk_fid:\n",
      "        items = line.split()\n",
      "    \n",
      "        if read_pos == 3: \n",
      "            angle = float(items[1])\n",
      "            \n",
      "            cx = float(items[2]) * 32\n",
      "            cy = float(items[3]) * 32\n",
      "            \n",
      "            dx = float(items[4]) * 32\n",
      "            dy = float(items[5]) * 32\n",
      "            \n",
      "            #print 'from this transform:'\n",
      "            #print '\\tangle: %f' % angle\n",
      "            #print '\\tcenter point: %f,%f' % (cx, cy)\n",
      "            #print '\\tdelta: %f,%f' % (dx, dy)\n",
      "            \n",
      "        read_pos +=1\n",
      "\n",
      "    left_offset = (32000 - imageInfo.metadata['width'])/2\n",
      "    top_offset = (32000 - imageInfo.metadata['height'])/2    \n",
      "        \n",
      "    new_points = []\n",
      "    olds = []\n",
      "    \n",
      "    original_xform = []\n",
      "        \n",
      "    for n,p in enumerate(points):\n",
      "        \n",
      "        are = points_area[n]\n",
      "        \n",
      "        if are >= lower_bound and are < upper_bound:\n",
      "            \n",
      "            orx = (2*p[0])+ top_offset\n",
      "            ory = (2*p[1])+ left_offset\n",
      "            \n",
      "            new_x = 2*p[0] + top_offset\n",
      "            new_y = 2*p[1] + left_offset\n",
      "            \n",
      "            new_x -= cx\n",
      "            new_y -= cy\n",
      "        \n",
      "            r_x = new_x*cos(angle) + new_y*-sin(angle);\n",
      "            r_y = new_x*sin(angle) + new_y*cos(angle);\n",
      "    \n",
      "            good_x = r_x + cx - dy\n",
      "            good_y = (r_y + cy - dx);\n",
      "            \n",
      "            newp = (good_x, good_y)\n",
      "            \n",
      "            original_xform.append([orx, ory])\n",
      "            new_points.append(newp)\n",
      "        \n",
      "        \n",
      "        \n",
      "        \n",
      "    old_points = np.array(original_xform)\n",
      "    new_pointsss = np.array(new_points)\n",
      "    \n",
      "    return new_pointsss\n",
      "\n",
      "def getImageSizeForSectionNumber(number):\n",
      "    for a in all_images:\n",
      "      #  print a.section_number\n",
      "        if a.section_number == number:\n",
      "            return a\n",
      " \n",
      "        "
     ],
     "language": "python",
     "metadata": {},
     "outputs": [],
     "prompt_number": 55
    },
    {
     "cell_type": "markdown",
     "metadata": {},
     "source": [
      "This code shows how to transform the points using the above function and plot them via matplotlib"
     ]
    },
    {
     "cell_type": "code",
     "collapsed": false,
     "input": [
      "# #this will plot the first 2 pointlists\n",
      "# import os\n",
      "\n",
      "# def plotPointlist\n",
      "# cnt = 0\n",
      "# fig1 = plt.figure(figsize=(6,6), dpi=180)\n",
      "# #ax = fig1.add_subplot(111, projection='3d')\n",
      "# plt.xlim(0, 32000)\n",
      "# plt.ylim(0, 32000)\n",
      "\n",
      "\n",
      "# for ng, gen in enumerate(generate_list):\n",
      "#     if cnt < 2:\n",
      "#         basename = os.path.basename(gen).split('-')[0]        \n",
      "#         for a in all_images:\n",
      "#             if a.section_number == int(basename):\n",
      "        \n",
      "#                 for n,avail in enumerate(available_list):\n",
      "#                     si = os.path.basename(avail).split('-')[0]\n",
      "#                     if basename == si:\n",
      "#                         if n > 0:\n",
      "#                             imageInfo = getImageSizeForSectionNumber(int(basename))\n",
      "                                \n",
      "#                             points = transformPoints(gen, area_list[ng], xform_list[n-1], imageInfo, lower_bound=20, upper_bound=100)\n",
      "#                             cval = cm.hot(cnt,1)\n",
      "#                             zval = np.ones_like(points[:,0]) * cnt * .1\n",
      "                            \n",
      "#                             if cnt == 0:\n",
      "#                                 y = plt.scatter(points[::2,1], points[::2,0], c='b', s=10);\n",
      "#                             elif cnt == 1:\n",
      "#                                 y = plt.scatter(points[::2,1], points[::2,0], c='r', s=10);\n",
      "#                             else:\n",
      "#                                 y = plt.scatter(points[:,1], points[:,0], c='g',s=10);\n",
      "#                             cnt += 1\n",
      "\n",
      "# plt.show()\n",
      "                "
     ],
     "language": "python",
     "metadata": {},
     "outputs": [],
     "prompt_number": 56
    },
    {
     "cell_type": "markdown",
     "metadata": {},
     "source": [
      "Rather than apply the transformation each time we need registered points, we can do it once and save them to a new file. The code below does exactly that, but also restricts the output to points with an area between 20 to 100"
     ]
    },
    {
     "cell_type": "code",
     "collapsed": false,
     "input": [
      "# run the one-time conversion of points \n",
      "def convertPoints():\n",
      "    \n",
      "    import os\n",
      "    cnt = 0\n",
      "    for ng, gen in enumerate(generate_list):\n",
      "        basename = os.path.basename(gen).split('-')[0]        \n",
      "        for a in all_images:\n",
      "            if a.section_number == int(basename):\n",
      "        \n",
      "                for n,avail in enumerate(available_list):\n",
      "                    si = os.path.basename(avail).split('-')[0]\n",
      "                    if basename == si:\n",
      "                        if n > 0:\n",
      "                            imageInfo = getImageSizeForSectionNumber(int(basename))    \n",
      "                            points = transformPoints(gen, area_list[ng], xform_list[n-1], imageInfo, 20,100)\n",
      "                            \n",
      "                            outputname = pe.dirs['regpoints'] + '/' + os.path.basename(gen) + '.reg'\n",
      "                            import numpy as np\n",
      "                            np.savetxt(outputname, points)\n"
     ],
     "language": "python",
     "metadata": {},
     "outputs": [],
     "prompt_number": 71
    },
    {
     "cell_type": "code",
     "collapsed": false,
     "input": [
      "import numpy as np\n",
      "\n",
      "rorb_count =0\n",
      "calb1_count=0\n",
      "for ppath in points_to_make_with:\n",
      "    \n",
      "    \n",
      "    # this corresponds to RORB labeling experiments\n",
      "    if '159713827' in ppath:\n",
      "    \n",
      "        points = np.loadtxt(ppath, dtype=np.float64)\n",
      "        rescale = 16\n",
      "    \n",
      "        softimg = np.zeros((32000/rescale,32000/rescale), dtype=np.float64)\n",
      "        for i,n in enumerate(points):\n",
      "            softimg[round(n[0]/rescale),round(n[1]/rescale)] += 1\n",
      "    \n",
      "        improc = ndimage.filters.gaussian_filter(softimg, 200/rescale, mode='constant')\n",
      "        \n",
      "        img_to_write = skimage.transform.pyramids.pyramid_reduce(improc, downscale=4)\n",
      "        ds4savename = os.path.join(pe.dirs['regdensity'], 'rorb-20-100-%04d.png' % (rorb_count))\n",
      "        sp.misc.imsave(ds4savename, img_to_write)\n",
      "        print ppath\n",
      "        print ds4savename\n",
      "        rorb_count+=1\n",
      "        \n",
      "    # this corresponds to CALB1 labeling experiments        \n",
      "    if '175707767' in ppath:\n",
      "    \n",
      "        points = np.loadtxt(ppath, dtype=np.float64)\n",
      "        rescale = 16\n",
      "    \n",
      "        softimg = np.zeros((32000/rescale,32000/rescale), dtype=np.float64)\n",
      "        for i,n in enumerate(points):\n",
      "            softimg[round(n[0]/rescale),round(n[1]/rescale)] += 1\n",
      "    \n",
      "        improc = ndimage.filters.gaussian_filter(softimg, 200/rescale, mode='constant')\n",
      "        \n",
      "        \n",
      "        img_to_write = skimage.transform.pyramids.pyramid_reduce(improc, downscale=4)\n",
      "        ds4savename = os.path.join(pe.dirs['regdensity'], 'calb1-20-100-%04d.png' % (calb1_count))\n",
      "        sp.misc.imsave(ds4savename, img_to_write)\n",
      "        print ppath\n",
      "        print ds4savename\n",
      "        calb1_count+=1    "
     ],
     "language": "python",
     "metadata": {},
     "outputs": [
      {
       "output_type": "stream",
       "stream": "stdout",
       "text": [
        "/data/reconstruction/specimens/H08-0083_01_02/register_points/023-159713827-DSx1.jpg.centroid.reg\n",
        "/data/reconstruction/specimens/H08-0083_01_02/register_density/rorb-20-100-0000.png\n",
        "/data/reconstruction/specimens/H08-0083_01_02/register_points/029-175707767-DSx1.jpg.centroid.reg"
       ]
      },
      {
       "output_type": "stream",
       "stream": "stdout",
       "text": [
        "\n",
        "/data/reconstruction/specimens/H08-0083_01_02/register_density/calb1-20-100-0000.png\n",
        "/data/reconstruction/specimens/H08-0083_01_02/register_points/033-159713827-DSx1.jpg.centroid.reg"
       ]
      },
      {
       "output_type": "stream",
       "stream": "stdout",
       "text": [
        "\n",
        "/data/reconstruction/specimens/H08-0083_01_02/register_density/rorb-20-100-0001.png\n",
        "/data/reconstruction/specimens/H08-0083_01_02/register_points/039-175707767-DSx1.jpg.centroid.reg"
       ]
      },
      {
       "output_type": "stream",
       "stream": "stdout",
       "text": [
        "\n",
        "/data/reconstruction/specimens/H08-0083_01_02/register_density/calb1-20-100-0001.png\n",
        "/data/reconstruction/specimens/H08-0083_01_02/register_points/043-159713827-DSx1.jpg.centroid.reg"
       ]
      },
      {
       "output_type": "stream",
       "stream": "stdout",
       "text": [
        "\n",
        "/data/reconstruction/specimens/H08-0083_01_02/register_density/rorb-20-100-0002.png\n",
        "/data/reconstruction/specimens/H08-0083_01_02/register_points/049-175707767-DSx1.jpg.centroid.reg"
       ]
      },
      {
       "output_type": "stream",
       "stream": "stdout",
       "text": [
        "\n",
        "/data/reconstruction/specimens/H08-0083_01_02/register_density/calb1-20-100-0002.png\n",
        "/data/reconstruction/specimens/H08-0083_01_02/register_points/053-159713827-DSx1.jpg.centroid.reg"
       ]
      },
      {
       "output_type": "stream",
       "stream": "stdout",
       "text": [
        "\n",
        "/data/reconstruction/specimens/H08-0083_01_02/register_density/rorb-20-100-0003.png\n",
        "/data/reconstruction/specimens/H08-0083_01_02/register_points/059-175707767-DSx1.jpg.centroid.reg"
       ]
      },
      {
       "output_type": "stream",
       "stream": "stdout",
       "text": [
        "\n",
        "/data/reconstruction/specimens/H08-0083_01_02/register_density/calb1-20-100-0003.png\n",
        "/data/reconstruction/specimens/H08-0083_01_02/register_points/063-159713827-DSx1.jpg.centroid.reg"
       ]
      },
      {
       "output_type": "stream",
       "stream": "stdout",
       "text": [
        "\n",
        "/data/reconstruction/specimens/H08-0083_01_02/register_density/rorb-20-100-0004.png\n",
        "/data/reconstruction/specimens/H08-0083_01_02/register_points/069-175707767-DSx1.jpg.centroid.reg"
       ]
      },
      {
       "output_type": "stream",
       "stream": "stdout",
       "text": [
        "\n",
        "/data/reconstruction/specimens/H08-0083_01_02/register_density/calb1-20-100-0004.png\n",
        "/data/reconstruction/specimens/H08-0083_01_02/register_points/073-159713827-DSx1.jpg.centroid.reg"
       ]
      },
      {
       "output_type": "stream",
       "stream": "stdout",
       "text": [
        "\n",
        "/data/reconstruction/specimens/H08-0083_01_02/register_density/rorb-20-100-0005.png\n",
        "/data/reconstruction/specimens/H08-0083_01_02/register_points/079-175707767-DSx1.jpg.centroid.reg"
       ]
      },
      {
       "output_type": "stream",
       "stream": "stdout",
       "text": [
        "\n",
        "/data/reconstruction/specimens/H08-0083_01_02/register_density/calb1-20-100-0005.png\n",
        "/data/reconstruction/specimens/H08-0083_01_02/register_points/083-159713827-DSx1.jpg.centroid.reg"
       ]
      },
      {
       "output_type": "stream",
       "stream": "stdout",
       "text": [
        "\n",
        "/data/reconstruction/specimens/H08-0083_01_02/register_density/rorb-20-100-0006.png\n",
        "/data/reconstruction/specimens/H08-0083_01_02/register_points/089-175707767-DSx1.jpg.centroid.reg"
       ]
      },
      {
       "output_type": "stream",
       "stream": "stdout",
       "text": [
        "\n",
        "/data/reconstruction/specimens/H08-0083_01_02/register_density/calb1-20-100-0006.png\n",
        "/data/reconstruction/specimens/H08-0083_01_02/register_points/093-159713827-DSx1.jpg.centroid.reg"
       ]
      },
      {
       "output_type": "stream",
       "stream": "stdout",
       "text": [
        "\n",
        "/data/reconstruction/specimens/H08-0083_01_02/register_density/rorb-20-100-0007.png\n",
        "/data/reconstruction/specimens/H08-0083_01_02/register_points/099-175707767-DSx1.jpg.centroid.reg"
       ]
      },
      {
       "output_type": "stream",
       "stream": "stdout",
       "text": [
        "\n",
        "/data/reconstruction/specimens/H08-0083_01_02/register_density/calb1-20-100-0007.png\n",
        "/data/reconstruction/specimens/H08-0083_01_02/register_points/103-159713827-DSx1.jpg.centroid.reg"
       ]
      },
      {
       "output_type": "stream",
       "stream": "stdout",
       "text": [
        "\n",
        "/data/reconstruction/specimens/H08-0083_01_02/register_density/rorb-20-100-0008.png\n",
        "/data/reconstruction/specimens/H08-0083_01_02/register_points/109-175707767-DSx1.jpg.centroid.reg"
       ]
      },
      {
       "output_type": "stream",
       "stream": "stdout",
       "text": [
        "\n",
        "/data/reconstruction/specimens/H08-0083_01_02/register_density/calb1-20-100-0008.png\n",
        "/data/reconstruction/specimens/H08-0083_01_02/register_points/113-159713827-DSx1.jpg.centroid.reg"
       ]
      },
      {
       "output_type": "stream",
       "stream": "stdout",
       "text": [
        "\n",
        "/data/reconstruction/specimens/H08-0083_01_02/register_density/rorb-20-100-0009.png\n",
        "/data/reconstruction/specimens/H08-0083_01_02/register_points/119-175707767-DSx1.jpg.centroid.reg"
       ]
      },
      {
       "output_type": "stream",
       "stream": "stdout",
       "text": [
        "\n",
        "/data/reconstruction/specimens/H08-0083_01_02/register_density/calb1-20-100-0009.png\n",
        "/data/reconstruction/specimens/H08-0083_01_02/register_points/123-159713827-DSx1.jpg.centroid.reg"
       ]
      },
      {
       "output_type": "stream",
       "stream": "stdout",
       "text": [
        "\n",
        "/data/reconstruction/specimens/H08-0083_01_02/register_density/rorb-20-100-0010.png\n",
        "/data/reconstruction/specimens/H08-0083_01_02/register_points/129-175707767-DSx1.jpg.centroid.reg"
       ]
      },
      {
       "output_type": "stream",
       "stream": "stdout",
       "text": [
        "\n",
        "/data/reconstruction/specimens/H08-0083_01_02/register_density/calb1-20-100-0010.png\n"
       ]
      }
     ],
     "prompt_number": 63
    },
    {
     "cell_type": "markdown",
     "metadata": {},
     "source": [
      "Now that we have a registered set of points, we can generate our pseudo-density representation by convolving a 2D guassian against them. In other words, we're applying a gaussian filter to a binary image containing our points. \n",
      "\n",
      "Once each density image is created, we can combine them into a single image stack and export it as one of many neuroimaging formats (shown here: nifti).\n",
      "\n",
      "**Note** - This approach is not conservative and produces a volume that may appear correct, is a loose representation of what actual expression density is within the volume. Given that we're already producing a very sparse approximation of an entire volume from at most 10 serially-sectioned images, this approach is acceptable. When whole block imaging methods become available, this method will be obsolete."
     ]
    },
    {
     "cell_type": "code",
     "collapsed": false,
     "input": [
      "# This will take each image from the RORB stack, create a numpy array, and export it as a NIFTI\n",
      "\n",
      "import numpy as np\n",
      "import nibabel as nib\n",
      "\n",
      "rorb_count =0\n",
      "calb1_count=0\n",
      "\n",
      "volume_file = np.zeros((500,500,11), dtype=np.float64)\n",
      "\n",
      "for ppath in points_to_make_with:    \n",
      "    if '159713827' in ppath:\n",
      "        print ppath\n",
      "        points = np.loadtxt(ppath, dtype=np.float64)\n",
      "        rescale = 16\n",
      "    \n",
      "        softimg = np.zeros((32000/rescale,32000/rescale), dtype=np.float64)\n",
      "        for i,n in enumerate(points):\n",
      "            softimg[round(n[0]/rescale),round(n[1]/rescale)] += 1\n",
      "    \n",
      "        improc = ndimage.filters.gaussian_filter(softimg, 200/rescale, mode='constant')\n",
      "        img_to_write = skimage.transform.pyramids.pyramid_reduce(improc, downscale=4)\n",
      "        \n",
      "        volume_file[:,:,rorb_count] = img_to_write\n",
      "        \n",
      "        rorb_count+=1\n",
      "        \n",
      "\n",
      "img = nib.Nifti1Image(volume_file, np.eye(4))\n",
      "stackname = os.path.join(pe.dirs['regstack'], 'rorb.nii.gz' )\n",
      "img.to_filename(stackname)\n",
      "        "
     ],
     "language": "python",
     "metadata": {},
     "outputs": [
      {
       "output_type": "stream",
       "stream": "stdout",
       "text": [
        "/data/reconstruction/specimens/H08-0083_01_02/register_points/023-159713827-DSx1.jpg.centroid.reg\n",
        "/data/reconstruction/specimens/H08-0083_01_02/register_points/033-159713827-DSx1.jpg.centroid.reg"
       ]
      },
      {
       "output_type": "stream",
       "stream": "stdout",
       "text": [
        "\n",
        "/data/reconstruction/specimens/H08-0083_01_02/register_points/043-159713827-DSx1.jpg.centroid.reg"
       ]
      },
      {
       "output_type": "stream",
       "stream": "stdout",
       "text": [
        "\n",
        "/data/reconstruction/specimens/H08-0083_01_02/register_points/053-159713827-DSx1.jpg.centroid.reg"
       ]
      },
      {
       "output_type": "stream",
       "stream": "stdout",
       "text": [
        "\n",
        "/data/reconstruction/specimens/H08-0083_01_02/register_points/063-159713827-DSx1.jpg.centroid.reg"
       ]
      },
      {
       "output_type": "stream",
       "stream": "stdout",
       "text": [
        "\n",
        "/data/reconstruction/specimens/H08-0083_01_02/register_points/073-159713827-DSx1.jpg.centroid.reg"
       ]
      },
      {
       "output_type": "stream",
       "stream": "stdout",
       "text": [
        "\n",
        "/data/reconstruction/specimens/H08-0083_01_02/register_points/083-159713827-DSx1.jpg.centroid.reg"
       ]
      },
      {
       "output_type": "stream",
       "stream": "stdout",
       "text": [
        "\n",
        "/data/reconstruction/specimens/H08-0083_01_02/register_points/093-159713827-DSx1.jpg.centroid.reg"
       ]
      },
      {
       "output_type": "stream",
       "stream": "stdout",
       "text": [
        "\n",
        "/data/reconstruction/specimens/H08-0083_01_02/register_points/103-159713827-DSx1.jpg.centroid.reg"
       ]
      },
      {
       "output_type": "stream",
       "stream": "stdout",
       "text": [
        "\n",
        "/data/reconstruction/specimens/H08-0083_01_02/register_points/113-159713827-DSx1.jpg.centroid.reg"
       ]
      },
      {
       "output_type": "stream",
       "stream": "stdout",
       "text": [
        "\n",
        "/data/reconstruction/specimens/H08-0083_01_02/register_points/123-159713827-DSx1.jpg.centroid.reg"
       ]
      },
      {
       "output_type": "stream",
       "stream": "stdout",
       "text": [
        "\n"
       ]
      }
     ],
     "prompt_number": 75
    },
    {
     "cell_type": "code",
     "collapsed": false,
     "input": [
      "# Same as above, except this time we will export it as an ANALYZE format, something easily readable by ImageJ\n",
      "\n",
      "import numpy as np\n",
      "import nibabel as nib\n",
      "\n",
      "rorb_count =0\n",
      "calb1_count=0\n",
      "\n",
      "volume_file = np.zeros((500,500,15), dtype=np.float64)\n",
      "\n",
      "for ppath in points_to_make_with:    \n",
      "    if '175707767' in ppath:\n",
      "        points = np.loadtxt(ppath, dtype=np.float64)\n",
      "        rescale = 16\n",
      "    \n",
      "        softimg = np.zeros((32000/rescale,32000/rescale), dtype=np.float64)\n",
      "        for i,n in enumerate(points):\n",
      "            softimg[round(n[0]/rescale),round(n[1]/rescale)] += 1\n",
      "    \n",
      "        improc = ndimage.filters.gaussian_filter(softimg, 200/rescale, mode='constant')\n",
      "        img_to_write = skimage.transform.pyramids.pyramid_reduce(improc, downscale=4)\n",
      "        \n",
      "        volume_file[:,:,calb1_count] = img_to_write\n",
      "        \n",
      "        calb1_count+=1\n",
      "        \n",
      "\n",
      "#img = nib.Nifti1Image(volume_file, np.eye(4))\n",
      "img = nib.AnalyzeImage(volume_file, np.eye(4))\n",
      "stackname = os.path.join(pe.dirs['regstack'], 'calb1.img' )\n",
      "img.to_filename(stackname)        "
     ],
     "language": "python",
     "metadata": {},
     "outputs": [],
     "prompt_number": 15
    },
    {
     "cell_type": "markdown",
     "metadata": {},
     "source": [
      "We can plot one of our density images using matplotlib"
     ]
    },
    {
     "cell_type": "code",
     "collapsed": false,
     "input": [
      "fig = plt.figure(figsize=(16, 16), dpi=180)\n",
      "ax = plt.imshow(improc, cmap=cm.gray)\n",
      "cbar = fig.colorbar(ax)\n",
      "imshow(improc, cmap=cm.gray)\n",
      "plt.show()"
     ],
     "language": "python",
     "metadata": {},
     "outputs": [
      {
       "metadata": {},
       "output_type": "display_data",
       "png": "[encoded data removed]",
       "text": [
        "<matplotlib.figure.Figure at 0x4a80850>"
       ]
      }
     ],
     "prompt_number": 79
    },
    {
     "cell_type": "code",
     "collapsed": false,
     "input": [
      "# save a single density image\n",
      "img_to_write = skimage.transform.pyramids.pyramid_reduce(improc, downscale=4)\n",
      "ds4savename = os.path.join(pe.dirs['regdensity'], os.path.basename(ppath) + '.png')\n",
      "sp.misc.imsave(ds4savename, img_to_write)\n",
      "print ds4savename"
     ],
     "language": "python",
     "metadata": {},
     "outputs": [
      {
       "output_type": "stream",
       "stream": "stdout",
       "text": [
        "/vol/reconstruction/specimens/H08-0083_01_02/register_density/023-159713827-DSx1.jpg.centroid.reg.png\n"
       ]
      }
     ],
     "prompt_number": 74
    },
    {
     "cell_type": "markdown",
     "metadata": {},
     "source": [
      "Finally, if you made it this far, we can also explore the points list in a bit more detail"
     ]
    },
    {
     "cell_type": "code",
     "collapsed": false,
     "input": [
      "# for curiousity, show histrogram of point size distribution\n",
      "pointdist = '/data/reconstruction/specimens/H08-0083_01_02/detect_points/029-175707767-DSx1.jpg.area'\n",
      "points = np.loadtxt(pointdist, dtype=np.float64);\n",
      "\n",
      "def reject_outliers(data, m=2):\n",
      "    return data[abs(data - np.mean(data)) < m * np.std(data)]\n",
      "\n",
      "points = reject_outliers(points)\n",
      "\n",
      "plt.hist(points, bins=8000)\n",
      "plt.xlim(0, 400)"
     ],
     "language": "python",
     "metadata": {},
     "outputs": [
      {
       "metadata": {},
       "output_type": "pyout",
       "prompt_number": 65,
       "text": [
        "(0, 400)"
       ]
      },
      {
       "metadata": {},
       "output_type": "display_data",
       "png": "[encoded data removed]",
       "text": [
        "<matplotlib.figure.Figure at 0x13c46d10>"
       ]
      }
     ],
     "prompt_number": 65
    },
    {
     "cell_type": "code",
     "collapsed": false,
     "input": [
      "# taking a look at the histogram bins & values\n",
      "histoval = np.histogram(points, bins=100)\n",
      "histoval"
     ],
     "language": "python",
     "metadata": {},
     "outputs": [
      {
       "metadata": {},
       "output_type": "pyout",
       "prompt_number": 66,
       "text": [
        "(array([883, 561, 637, 347, 498, 380, 448, 283, 357, 227, 366, 204, 252,\n",
        "       167, 250, 148, 209, 138, 166, 104, 163,  92, 121,  74,  75,  84,\n",
        "        58,  71,  37,  61,  31,  37,  24,  39,  23,  17,   9,  31,  12,\n",
        "        22,  11,  14,  11,   8,   7,  11,   4,   7,   1,   7,   4,   3,\n",
        "         3,   3,   7,   5,   1,   2,   1,   1,   3,   0,   1,   0,   0,\n",
        "         0,   1,   1,   5,   0,   1,   3,   1,   0,   0,   2,   0,   1,\n",
        "         1,   1,   2,   1,   0,   0,   1,   0,   1,   1,   0,   2,   2,\n",
        "         1,   0,   1,   0,   1,   0,   1,   0,   2]),\n",
        " array([   9.  ,   11.48,   13.96,   16.44,   18.92,   21.4 ,   23.88,\n",
        "         26.36,   28.84,   31.32,   33.8 ,   36.28,   38.76,   41.24,\n",
        "         43.72,   46.2 ,   48.68,   51.16,   53.64,   56.12,   58.6 ,\n",
        "         61.08,   63.56,   66.04,   68.52,   71.  ,   73.48,   75.96,\n",
        "         78.44,   80.92,   83.4 ,   85.88,   88.36,   90.84,   93.32,\n",
        "         95.8 ,   98.28,  100.76,  103.24,  105.72,  108.2 ,  110.68,\n",
        "        113.16,  115.64,  118.12,  120.6 ,  123.08,  125.56,  128.04,\n",
        "        130.52,  133.  ,  135.48,  137.96,  140.44,  142.92,  145.4 ,\n",
        "        147.88,  150.36,  152.84,  155.32,  157.8 ,  160.28,  162.76,\n",
        "        165.24,  167.72,  170.2 ,  172.68,  175.16,  177.64,  180.12,\n",
        "        182.6 ,  185.08,  187.56,  190.04,  192.52,  195.  ,  197.48,\n",
        "        199.96,  202.44,  204.92,  207.4 ,  209.88,  212.36,  214.84,\n",
        "        217.32,  219.8 ,  222.28,  224.76,  227.24,  229.72,  232.2 ,\n",
        "        234.68,  237.16,  239.64,  242.12,  244.6 ,  247.08,  249.56,\n",
        "        252.04,  254.52,  257.  ]))"
       ]
      }
     ],
     "prompt_number": 66
    },
    {
     "cell_type": "code",
     "collapsed": false,
     "input": [
      "# let's fit a curve to it!\n",
      "from scipy.optimize import curve_fit\n",
      "\n",
      "def func(x, a, b, c):\n",
      "    return a*np.exp(-b*x) + c\n",
      "\n",
      "x_vals = histoval[1][0:100]\n",
      "y_vals = histoval[0][0:100]\n",
      "popt, pcov = curve_fit(func, x_vals, y_vals)\n",
      "print popt\n",
      "print x_vals.max()"
     ],
     "language": "python",
     "metadata": {},
     "outputs": [
      {
       "output_type": "stream",
       "stream": "stdout",
       "text": [
        "[  1.00637872e+03   3.88348507e-02   1.26954607e+00]\n",
        "254.52\n"
       ]
      }
     ],
     "prompt_number": 67
    },
    {
     "cell_type": "code",
     "collapsed": false,
     "input": [
      "# and plot our curve\n",
      "x = np.linspace(1,x_vals.max(), 1000)\n",
      "_y = np.zeros_like(x)\n",
      "for n,_x in enumerate(x):\n",
      "    _y[n] = func(_x, popt[0], popt[1], popt[2])    \n",
      "\n",
      "plt.scatter(x, _y)\n",
      "plt.xlim(1,250)"
     ],
     "language": "python",
     "metadata": {},
     "outputs": [
      {
       "metadata": {},
       "output_type": "pyout",
       "prompt_number": 68,
       "text": [
        "(1, 250)"
       ]
      },
      {
       "metadata": {},
       "output_type": "display_data",
       "png": "[encoded data removed]",
       "text": [
        "<matplotlib.figure.Figure at 0x47d66d0>"
       ]
      }
     ],
     "prompt_number": 68
    },
    {
     "cell_type": "code",
     "collapsed": false,
     "input": [
      "# Subtracting curve\n",
      "fix_y = np.zeros_like(y_vals)\n",
      "for n,nx in enumerate(x_vals):\n",
      "    fix_y[n] = y_vals[n] - func(nx, popt[0], popt[1], popt[2])\n",
      "    \n",
      "plt.scatter(x_vals, fix_y)\n",
      "plt.xlim(0,250)"
     ],
     "language": "python",
     "metadata": {},
     "outputs": [
      {
       "metadata": {},
       "output_type": "pyout",
       "prompt_number": 69,
       "text": [
        "(0, 250)"
       ]
      },
      {
       "metadata": {},
       "output_type": "display_data",
       "png": "[encoded data removed]",
       "text": [
        "<matplotlib.figure.Figure at 0x46f3dd0>"
       ]
      }
     ],
     "prompt_number": 69
    },
    {
     "cell_type": "code",
     "collapsed": false,
     "input": [],
     "language": "python",
     "metadata": {},
     "outputs": []
    }
   ],
   "metadata": {}
  }
 ]
}