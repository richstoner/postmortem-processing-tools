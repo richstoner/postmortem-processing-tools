{
 "metadata": {
  "name": ""
 },
 "nbformat": 3,
 "nbformat_minor": 0,
 "worksheets": [
  {
   "cells": [
    {
     "cell_type": "markdown",
     "metadata": {},
     "source": [
      "This notebook checks for the presence of necessary python modules and other dependencies."
     ]
    },
    {
     "cell_type": "code",
     "collapsed": false,
     "input": [
      "import os\n",
      "import numpy as np\n",
      "import scipy as sci\n",
      "import skimage as sk\n",
      "import matplotlib as mp\n",
      "\n",
      "print 'Numpy: %s' % np.__version__\n",
      "print 'Scipy: %s' % sci.__version__\n",
      "print 'Scikit-Image: %s' % sk.__version__\n",
      "print 'Matplotlib: %s' % mp.__version__"
     ],
     "language": "python",
     "metadata": {},
     "outputs": [
      {
       "output_type": "stream",
       "stream": "stdout",
       "text": [
        "Numpy: 1.8.0\n",
        "Scipy: 0.13.3\n",
        "Scikit-Image: 0.9.3\n",
        "Matplotlib: 1.3.1\n"
       ]
      }
     ],
     "prompt_number": 1
    },
    {
     "cell_type": "code",
     "collapsed": false,
     "input": [
      "list_to_check = []\n",
      "\n",
      "# imagemagick\n",
      "list_to_check.append('/usr/bin/convert')\n",
      "list_to_check.append('/usr/bin/composite')\n",
      "\n",
      "# avconv\n",
      "list_to_check.append('/usr/bin/avconv')\n",
      "\n",
      "# FIJI\n",
      "list_to_check.append('/home/vagrant/Fiji.app/fiji-linux64')\n",
      "\n",
      "# itk-based compiled binaries\n",
      "list_to_check.append('/vagrant/bin/')\n",
      "\n",
      "# folders where data may end up\n",
      "list_to_check.append('/data/reconstruction/')\n",
      "\n",
      "\n",
      "for l in list_to_check:\n",
      "    if not os.path.exists(l):\n",
      "        print 'missing : %s' % l\n",
      "    else:\n",
      "        print 'found   : %s' % l\n"
     ],
     "language": "python",
     "metadata": {},
     "outputs": [
      {
       "output_type": "stream",
       "stream": "stdout",
       "text": [
        "found   : /usr/bin/convert\n",
        "found   : /usr/bin/composite\n",
        "found   : /usr/bin/avconv\n",
        "found   : /home/vagrant/Fiji.app/fiji-linux64\n",
        "found   : /vagrant/bin/\n",
        "found   : /data/reconstruction/\n"
       ]
      }
     ],
     "prompt_number": 5
    },
    {
     "cell_type": "code",
     "collapsed": false,
     "input": [],
     "language": "python",
     "metadata": {},
     "outputs": []
    }
   ],
   "metadata": {}
  }
 ]
}